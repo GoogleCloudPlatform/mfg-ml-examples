{
 "cells": [
  {
   "cell_type": "raw",
   "id": "d5778ee5-0fdf-4071-b48e-a36ef7b3cf15",
   "metadata": {},
   "source": [
    "# Copyright 2022 Google LLC\n",
    "#\n",
    "# Licensed under the Apache License, Version 2.0 (the \"License\");\n",
    "# you may not use this file except in compliance with the License.\n",
    "# You may obtain a copy of the License at\n",
    "#\n",
    "#     https://www.apache.org/licenses/LICENSE-2.0\n",
    "#\n",
    "# Unless required by applicable law or agreed to in writing, software\n",
    "# distributed under the License is distributed on an \"AS IS\" BASIS,\n",
    "# WITHOUT WARRANTIES OR CONDITIONS OF ANY KIND, either express or implied.\n",
    "# See the License for the specific language governing permissions and\n",
    "# limitations under the License."
   ]
  },
  {
   "cell_type": "markdown",
   "id": "c1b4ef3a-fa67-477a-baaa-9abcb0bc39ad",
   "metadata": {},
   "source": [
    "# Tool Wear Detection: Batch Prediction\n",
    "\n",
    "In this notebook, you will use the tool wear classification model, trained in [1_tool_wear_train.ipynb](./1_tool_wear_train.ipynb), to batch predict the CNC milling machine telemetries in Manufacturing Data Engine."
   ]
  },
  {
   "cell_type": "markdown",
   "id": "659a4828-e228-4e1c-a9f7-9b5cf4b2e110",
   "metadata": {},
   "source": [
    "## Before you begin"
   ]
  },
  {
   "cell_type": "markdown",
   "id": "a58f630a-a70f-4aa0-9c92-67f428e92d82",
   "metadata": {},
   "source": [
    "### Set your project ID\n",
    "\n",
    "If you don't know your project ID, you may be able to get your project ID using gcloud."
   ]
  },
  {
   "cell_type": "code",
   "execution_count": null,
   "id": "7b4f9dc7-3765-46d2-a999-921e477fcaa0",
   "metadata": {
    "tags": [
     "parameters"
    ]
   },
   "outputs": [],
   "source": [
    "PROJECT_ID = \"[your-project-id]\"  # @param {type:\"string\"}"
   ]
  },
  {
   "cell_type": "code",
   "execution_count": null,
   "id": "5e73d11a-486f-4f1c-8aa3-6ff5a7a17a13",
   "metadata": {},
   "outputs": [],
   "source": [
    "if PROJECT_ID == \"\" or PROJECT_ID is None or PROJECT_ID == \"[your-project-id]\":\n",
    "    # Get your GCP project id from gcloud\n",
    "    shell_output = ! gcloud config list --format 'value(core.project)' 2>/dev/null\n",
    "    PROJECT_ID = shell_output[0]\n",
    "    print(\"Project ID:\", PROJECT_ID)"
   ]
  },
  {
   "cell_type": "markdown",
   "id": "509472d0-5d2c-4c2a-b2dc-46e94bc15ec0",
   "metadata": {},
   "source": [
    "## Import libraries"
   ]
  },
  {
   "cell_type": "code",
   "execution_count": null,
   "id": "3c1207ac-c3dd-49fe-93cc-d6ee795786f8",
   "metadata": {},
   "outputs": [],
   "source": [
    "from datetime import datetime\n",
    "\n",
    "from google.cloud import aiplatform as vertex_ai\n",
    "from google.cloud import bigquery\n",
    "from google.cloud.aiplatform import Model\n",
    "from google.cloud.aiplatform_v1beta1.services.job_service import JobServiceClient\n",
    "from google.protobuf import json_format\n",
    "from google.protobuf.struct_pb2 import Value"
   ]
  },
  {
   "cell_type": "markdown",
   "id": "4e9cd85b-63c1-4105-9642-deb005a3b2d2",
   "metadata": {},
   "source": [
    "## Initialize Vertex AI and BigQuery clients"
   ]
  },
  {
   "cell_type": "code",
   "execution_count": null,
   "id": "8fdbc763-f307-4269-9f2f-699aa829c7f8",
   "metadata": {},
   "outputs": [],
   "source": [
    "vertex_ai.init(project=PROJECT_ID)\n",
    "\n",
    "bq_client = bigquery.Client(project=PROJECT_ID)"
   ]
  },
  {
   "cell_type": "markdown",
   "id": "0fdbc838-9855-474a-959c-e951f296608e",
   "metadata": {},
   "source": [
    "## Explore MDE BigQuery tables\n",
    "\n",
    "In MDE deployment with default configurations, MDE creates a BigQuery dataset called `sfp_data`. In it, there are 6 tables described below:\n",
    "\n",
    "| Table Name           | Partition By        | Description                                                                      |\n",
    "|----------------------|---------------------|----------------------------------------------------------------------------------|\n",
    "| ComponentDataSeries  | eventTimestamp      | N/A; not implemented                                                             |\n",
    "| ContinuousDataSeries | eventTimestampStart | Time series of consecutive states defined by event data, start time and end time |\n",
    "| DiscreteDataSeries   | eventTimestamp      | Time series of event data associated with a single timestamp                     |\n",
    "| NumericDataSeries    | eventTimestamp      | Time series of numerical event data associated with a single timestamp           |\n",
    "| InsertErrors         | insertTimestamp     | Dead letter queue of messages that fail to be ingested into BigQuery             |\n",
    "| OperationsDashboard  | eventTimestamp      | Operational logs of MDE data pipelines                                           |\n",
    "\n",
    "For classifying CNC milling machine condition, you will only use the `DiscreteDataSeries` and `NumericDataSeries` tables since the dataset contains non-numerical and numerical telemetries.\n",
    "\n",
    "In this section, you will use the [BigQuery Python client](https://cloud.google.com/bigquery/docs/reference/libraries#client-libraries-install-python) to explore the basics of MDE BigQuery tables. "
   ]
  },
  {
   "cell_type": "code",
   "execution_count": null,
   "id": "db0e9912-22dc-454e-ac27-b5cfb4bcbbed",
   "metadata": {},
   "outputs": [],
   "source": [
    "# Explore the BigQuery tables in MDE\n",
    "query = f\"\"\"\n",
    "SELECT\n",
    "    *\n",
    "FROM\n",
    "    `{PROJECT_ID}.sfp_data.INFORMATION_SCHEMA.TABLES`;\n",
    "\"\"\"\n",
    "\n",
    "results = bq_client.query(query)\n",
    "\n",
    "results.to_dataframe()"
   ]
  },
  {
   "cell_type": "code",
   "execution_count": null,
   "id": "a2215d2c-ccd6-4451-b4f7-0b4172cfb8bb",
   "metadata": {},
   "outputs": [],
   "source": [
    "# Query for 3 numeric messages from today\n",
    "query = f\"\"\"\n",
    "SELECT\n",
    "    *\n",
    "FROM\n",
    "    `{PROJECT_ID}.sfp_data.NumericDataSeries`\n",
    "WHERE\n",
    "  DATE(eventTimestamp) = CURRENT_DATE()\n",
    "ORDER BY\n",
    "  eventTimestamp DESC\n",
    "LIMIT 3;\n",
    "\"\"\"\n",
    "\n",
    "results = bq_client.query(query)\n",
    "\n",
    "results.to_dataframe()"
   ]
  },
  {
   "cell_type": "code",
   "execution_count": null,
   "id": "37233a67-5f2f-452a-85fe-84fbb723e9ea",
   "metadata": {},
   "outputs": [],
   "source": [
    "# Query for 3 discrete messages from today\n",
    "query = f\"\"\"\n",
    "SELECT\n",
    "    *\n",
    "FROM\n",
    "    `{PROJECT_ID}.sfp_data.DiscreteDataSeries`\n",
    "WHERE\n",
    "  DATE(eventTimestamp) = CURRENT_DATE()\n",
    "ORDER BY\n",
    "  eventTimestamp DESC\n",
    "LIMIT 3;\n",
    "\"\"\"\n",
    "\n",
    "results = bq_client.query(query)\n",
    "\n",
    "results.to_dataframe()"
   ]
  },
  {
   "cell_type": "markdown",
   "id": "14f87d64-9d5e-4977-a215-5771bf04a35c",
   "metadata": {},
   "source": [
    "> Note: `DiscreteDataSeries` and `NumericDataSeries` contains many similar fields (like `tagName`, `eventTimestamp`, `payload`, and others). This is by design since the data series share many properties in common. Some of the fields are described below:\n",
    "\n",
    "| Field | Description |\n",
    "|-------|-------------|\n",
    "| tagName  | Unique label for a single time series in the Cloud |\n",
    "| edgeTagName | Time series label used by edge appliance |\n",
    "| eventTimestamp | Timestamp when event is captured |\n",
    "| payload | Message body |\n",
    "| payloadQualifier | Dynamic descriptors for time series (e.g. unit of metrics) |\n",
    "| metadata | Slowly changing contextual data enriched by data pipelines |"
   ]
  },
  {
   "cell_type": "code",
   "execution_count": null,
   "id": "bacf870d-1b49-44c7-9038-2698cde1032b",
   "metadata": {},
   "outputs": [],
   "source": [
    "# Get all CNC milling machine numeric tags\n",
    "query = f\"\"\"\n",
    "SELECT\n",
    "  DISTINCT tagName \n",
    "FROM \n",
    "  `{PROJECT_ID}.sfp_data.NumericDataSeries`\n",
    "WHERE\n",
    "  DATE(eventTimestamp) = CURRENT_DATE()\n",
    "  AND STARTS_WITH(tagName, 'cncmilling_')\n",
    "ORDER BY tagName;\n",
    "\"\"\"\n",
    "\n",
    "results = bq_client.query(query)\n",
    "\n",
    "results.to_dataframe()"
   ]
  },
  {
   "cell_type": "code",
   "execution_count": null,
   "id": "d84f06e3-db14-4397-a1ca-5cf465d558ee",
   "metadata": {},
   "outputs": [],
   "source": [
    "# Get all CNC milling machine discrete tags\n",
    "query = f\"\"\"\n",
    "SELECT\n",
    "  DISTINCT tagName \n",
    "FROM \n",
    "  `{PROJECT_ID}.sfp_data.DiscreteDataSeries`\n",
    "WHERE\n",
    "  DATE(eventTimestamp) = CURRENT_DATE()\n",
    "  AND STARTS_WITH(tagName, 'cncmilling_')\n",
    "ORDER BY tagName;\n",
    "\"\"\"\n",
    "\n",
    "results = bq_client.query(query)\n",
    "\n",
    "results.to_dataframe()"
   ]
  },
  {
   "cell_type": "markdown",
   "id": "eb6c3f17-d8ab-46f1-abbf-c8dcae8b26dd",
   "metadata": {},
   "source": [
    "> Observe the mapping of tag names to the feature names in the [CNC milling machine dataset](https://www.kaggle.com/datasets/shasun/tool-wear-detection-in-cnc-mill). For example, `cncmilling_m1_current_feedrate` is mapped to `M1_CURRENT_FEEDRATE` and `cncmilling_z1_outputvoltage` is mapped to `Z1_OutputVoltage`."
   ]
  },
  {
   "cell_type": "markdown",
   "id": "cf52e92d-5b60-4bf6-95dc-2cedc35c573c",
   "metadata": {},
   "source": [
    "## Create prediction features\n",
    "\n",
    "From the data exploration of MDE BigQuery, you have the following observations:\n",
    "\n",
    "1. Each prediction feature is stored as seperate time series tags in rows.\n",
    "1. Each tag can be stored in `DiscreteDataSeries` or `NumericalDataSeries` tables.\n",
    "1. The tag names are different from the feature names.\n",
    "1. The tag names follow a naming convention and can map to feature names.\n",
    "1. Some features are stored as metadata for tags (e.g. `material`).\n",
    "\n",
    "In order to use the MDE data for tool wear classification, you will pivot the `DiscreteDataSeries` and `NumericalDataSeries` tables with required tags. Also, you will extract features from the tag metadata. You will assemble the pivoted tables and extracted metadata into a BigQuery view for batch prediction.\n",
    "\n",
    "In this section, you will:\n",
    "\n",
    "1. Create a BigQuery dataset for storing ML-related artifacts.\n",
    "1. Create a BigQuery table to store mapping between the tag names and feature names.\n",
    "1. Create a BigQuery stored procedure to dynamically generate a BigQuery view that contains unpredicted features.\n",
    "1. Call the BigQuery stored procedure to generate prediction feature view."
   ]
  },
  {
   "cell_type": "code",
   "execution_count": null,
   "id": "f30ad8d5-6675-4b11-9611-ee22eb3b21ee",
   "metadata": {},
   "outputs": [],
   "source": [
    "query = f\"\"\"\n",
    "CREATE SCHEMA IF NOT EXISTS `{PROJECT_ID}.ml`\n",
    "  OPTIONS (\n",
    "    description = 'Dataset for storing machine learning artifacts',\n",
    "    location = 'us'\n",
    "  );\n",
    "\"\"\"\n",
    "\n",
    "results = bq_client.query(query)\n",
    "\n",
    "results.to_dataframe()"
   ]
  },
  {
   "cell_type": "code",
   "execution_count": null,
   "id": "d111ea8b-e7e0-46c6-ae7b-f9bda08a9540",
   "metadata": {},
   "outputs": [],
   "source": [
    "query = f\"\"\"\n",
    "CREATE OR REPLACE TABLE `{PROJECT_ID}.ml.tool_wear_tags` (\n",
    "  tagName STRING,\n",
    "  featureName STRING\n",
    ") OPTIONS (\n",
    "    description = 'Mapping between tags and feature for tool wear classification'\n",
    ");\n",
    "\"\"\"\n",
    "\n",
    "results = bq_client.query(query)\n",
    "\n",
    "results.to_dataframe()"
   ]
  },
  {
   "cell_type": "markdown",
   "id": "27cffd65-794a-43d9-b087-356a4a7410d3",
   "metadata": {},
   "source": [
    "The `tool_wear_tags` table is initialized with the tag-to-feature mapping."
   ]
  },
  {
   "cell_type": "code",
   "execution_count": null,
   "id": "a4b60e71-849e-46b9-8765-bd1375942d80",
   "metadata": {},
   "outputs": [],
   "source": [
    "query = f\"\"\"\n",
    "INSERT `{PROJECT_ID}.ml.tool_wear_tags` (tagName, featureName)\n",
    "VALUES \n",
    "('cncmilling_clamp_pressure', 'clamp_pressure')\n",
    ", ('cncmilling_feedrate', 'feedrate')\n",
    ", ('cncmilling_m1_current_feedrate', 'M1_CURRENT_FEEDRATE')\n",
    ", ('cncmilling_m1_current_program_number', 'M1_CURRENT_PROGRAM_NUMBER')\n",
    ", ('cncmilling_m1_sequence_number', 'M1_sequence_number')\n",
    ", ('cncmilling_machining_process', 'Machining_Process')\n",
    ", ('cncmilling_s1_accelerationdiff', 'S1_AccelerationDiff')\n",
    ", ('cncmilling_s1_actualacceleration', 'S1_ActualAcceleration')\n",
    ", ('cncmilling_s1_actualposition', 'S1_ActualPosition')\n",
    ", ('cncmilling_s1_actualvelocity', 'S1_ActualVelocity')\n",
    ", ('cncmilling_s1_commandacceleration', 'S1_CommandAcceleration')\n",
    ", ('cncmilling_s1_commandposition', 'S1_CommandPosition')\n",
    ", ('cncmilling_s1_commandvelocity', 'S1_CommandVelocity')\n",
    ", ('cncmilling_s1_currentfeedback', 'S1_CurrentFeedback')\n",
    ", ('cncmilling_s1_dcbusvoltage', 'S1_DCBusVoltage')\n",
    ", ('cncmilling_s1_outputcurrent', 'S1_OutputCurrent')\n",
    ", ('cncmilling_s1_outputpower', 'S1_OutputPower')\n",
    ", ('cncmilling_s1_outputvoltage', 'S1_OutputVoltage')\n",
    ", ('cncmilling_s1_positiondiff', 'S1_PositionDiff')\n",
    ", ('cncmilling_s1_systeminertia', 'S1_SystemInertia')\n",
    ", ('cncmilling_s1_velocitydiff', 'S1_VelocityDiff')\n",
    ", ('cncmilling_x1_accelerationdiff', 'X1_AccelerationDiff')\n",
    ", ('cncmilling_x1_actualacceleration', 'X1_ActualAcceleration')\n",
    ", ('cncmilling_x1_actualposition', 'X1_ActualPosition')\n",
    ", ('cncmilling_x1_actualvelocity', 'X1_ActualVelocity')\n",
    ", ('cncmilling_x1_commandacceleration', 'X1_CommandAcceleration')\n",
    ", ('cncmilling_x1_commandposition', 'X1_CommandPosition')\n",
    ", ('cncmilling_x1_commandvelocity', 'X1_CommandVelocity')\n",
    ", ('cncmilling_x1_currentfeedback', 'X1_CurrentFeedback')\n",
    ", ('cncmilling_x1_dcbusvoltage', 'X1_DCBusVoltage')\n",
    ", ('cncmilling_x1_outputcurrent', 'X1_OutputCurrent')\n",
    ", ('cncmilling_x1_outputpower', 'X1_OutputPower')\n",
    ", ('cncmilling_x1_outputvoltage', 'X1_OutputVoltage')\n",
    ", ('cncmilling_x1_positiondiff', 'X1_PositionDiff')\n",
    ", ('cncmilling_x1_velocitydiff', 'X1_VelocityDiff')\n",
    ", ('cncmilling_y1_accelerationdiff', 'Y1_AccelerationDiff')\n",
    ", ('cncmilling_y1_actualacceleration', 'Y1_ActualAcceleration')\n",
    ", ('cncmilling_y1_actualposition', 'Y1_ActualPosition')\n",
    ", ('cncmilling_y1_actualvelocity', 'Y1_ActualVelocity')\n",
    ", ('cncmilling_y1_commandacceleration', 'Y1_CommandAcceleration')\n",
    ", ('cncmilling_y1_commandposition', 'Y1_CommandPosition')\n",
    ", ('cncmilling_y1_commandvelocity', 'Y1_CommandVelocity')\n",
    ", ('cncmilling_y1_currentfeedback', 'Y1_CurrentFeedback')\n",
    ", ('cncmilling_y1_dcbusvoltage', 'Y1_DCBusVoltage')\n",
    ", ('cncmilling_y1_outputcurrent', 'Y1_OutputCurrent')\n",
    ", ('cncmilling_y1_outputpower', 'Y1_OutputPower')\n",
    ", ('cncmilling_y1_outputvoltage', 'Y1_OutputVoltage')\n",
    ", ('cncmilling_y1_positiondiff', 'Y1_PositionDiff')\n",
    ", ('cncmilling_y1_velocitydiff', 'Y1_VelocityDiff')\n",
    ", ('cncmilling_z1_accelerationdiff', 'Z1_AccelerationDiff')\n",
    ", ('cncmilling_z1_actualacceleration', 'Z1_ActualAcceleration')\n",
    ", ('cncmilling_z1_actualposition', 'Z1_ActualPosition')\n",
    ", ('cncmilling_z1_actualvelocity', 'Z1_ActualVelocity')\n",
    ", ('cncmilling_z1_commandacceleration', 'Z1_CommandAcceleration')\n",
    ", ('cncmilling_z1_commandposition', 'Z1_CommandPosition')\n",
    ", ('cncmilling_z1_commandvelocity', 'Z1_CommandVelocity')\n",
    ", ('cncmilling_z1_currentfeedback', 'Z1_CurrentFeedback')\n",
    ", ('cncmilling_z1_dcbusvoltage', 'Z1_DCBusVoltage')\n",
    ", ('cncmilling_z1_outputcurrent', 'Z1_OutputCurrent')\n",
    ", ('cncmilling_z1_outputvoltage', 'Z1_OutputVoltage')\n",
    ", ('cncmilling_z1_positiondiff', 'Z1_PositionDiff')\n",
    ", ('cncmilling_z1_velocitydiff', 'Z1_VelocityDiff')\n",
    ", ('cncmilling_tool_condition', 'tool_condition')\n",
    ", ('cncmilling_material', 'material');\n",
    "\"\"\"\n",
    "\n",
    "results = bq_client.query(query)\n",
    "\n",
    "results.to_dataframe()"
   ]
  },
  {
   "cell_type": "code",
   "execution_count": null,
   "id": "4fa40d72-35d5-458b-823a-4d74467e97dc",
   "metadata": {},
   "outputs": [],
   "source": [
    "query = f\"\"\"\n",
    "SELECT\n",
    "  *\n",
    "FROM\n",
    "  `{PROJECT_ID}.ml.tool_wear_tags`\n",
    "ORDER BY\n",
    "  tagName \n",
    "LIMIT 5;\n",
    "\"\"\"\n",
    "\n",
    "results = bq_client.query(query)\n",
    "\n",
    "results.to_dataframe()"
   ]
  },
  {
   "cell_type": "code",
   "execution_count": null,
   "id": "69977e80-4b9c-435e-98f4-858950c73651",
   "metadata": {},
   "outputs": [],
   "source": [
    "query = f'''\n",
    "CREATE OR REPLACE PROCEDURE `{PROJECT_ID}.ml.create_prediction_features_view`(view_name STRING)\n",
    "BEGIN\n",
    "    DECLARE select_expr STRING;\n",
    "    DECLARE pivot_expr STRING;\n",
    "    DECLARE query STRING;\n",
    "    DECLARE last_prediction_timestamp DEFAULT (\n",
    "      SELECT\n",
    "        IFNULL(\n",
    "          MAX(eventTimestamp),\n",
    "          TIMESTAMP_SECONDS(0)\n",
    "        ) AS last_prediction_timestamp\n",
    "      FROM\n",
    "        `sfp_data.DiscreteDataSeries`\n",
    "      WHERE\n",
    "        DATE(eventTimestamp) >= DATE_FROM_UNIX_DATE(0)\n",
    "        AND tagName = 'tool_wear_predictions'\n",
    "    );\n",
    "    \n",
    "    -- Dynamically create select expressions\n",
    "    SET select_expr = (\n",
    "      WITH SelectExpr AS (\n",
    "        SELECT \n",
    "          CASE\n",
    "            WHEN EXISTS (SELECT DISTINCT tagName FROM `sfp_data.DiscreteDataSeries` d WHERE d.eventTimestamp > last_prediction_timestamp AND d.tagName = t.tagName)\n",
    "              THEN FORMAT(', JSON_EXTRACT_SCALAR(payload_%s, \"$\") AS %s', t.tagName, t.featureName)\n",
    "            WHEN EXISTS (SELECT DISTINCT tagName FROM `sfp_data.NumericDataSeries` n WHERE n.eventTimestamp > last_prediction_timestamp AND n.tagName = t.tagName)\n",
    "              THEN FORMAT(', JSON_EXTRACT_SCALAR(payload_%s, \"$.value\") AS %s', t.tagName, t.featureName)\n",
    "            ELSE ''\n",
    "          END AS expr\n",
    "        FROM\n",
    "          `ml.tool_wear_tags` t\n",
    "      )\n",
    "      SELECT \n",
    "        STRING_AGG(SelectExpr.expr, ' ')\n",
    "      FROM \n",
    "        SelectExpr\n",
    "    );\n",
    "    \n",
    "    -- Dynamically create pivot expression\n",
    "    SET pivot_expr = (\n",
    "      SELECT\n",
    "        STRING_AGG(DISTINCT CONCAT(\"'\", tagName, \"'\"))\n",
    "      FROM\n",
    "        `ml.tool_wear_tags`\n",
    "    );\n",
    "    \n",
    "    -- Format query using dynamic select and pivot expressions\n",
    "    SET query = (\n",
    "      SELECT FORMAT(r\"\"\"\n",
    "        CREATE OR REPLACE VIEW %s AS\n",
    "        WITH metadata AS (\n",
    "            SELECT\n",
    "              d.eventTimestamp\n",
    "              , CASE\n",
    "                  WHEN (REGEXP_CONTAINS(mkv.schemaIdentifier, r'^(cncmill/\\d+/local/cncmill/\\d+)$') AND mkv.key = 'material')\n",
    "                    THEN 'cncmilling_material'\n",
    "                  ELSE NULL\n",
    "                END AS tagName\n",
    "              , TO_JSON_STRING(mkv.value) AS payload\n",
    "            FROM\n",
    "              `sfp_data.DiscreteDataSeries` d, d.metadataKV mkv\n",
    "            WHERE\n",
    "              TIMESTAMP_TRUNC(d.eventTimestamp, SECOND) > \"%t\"\n",
    "              AND d.tagName = 'cncmilling_tool_condition'\n",
    "              AND ARRAY_LENGTH(metadataKV) != 0\n",
    "        )\n",
    "        SELECT \n",
    "          eventTimestamp\n",
    "          %s\n",
    "          , JSON_EXTRACT_SCALAR(payload_cncmilling_material, \"$\") AS material\n",
    "        FROM \n",
    "        (\n",
    "          SELECT\n",
    "            TIMESTAMP_TRUNC(n.eventTimestamp, SECOND) AS eventTimestamp\n",
    "            , n.tagName\n",
    "            , TO_JSON_STRING(n.payload) AS payload\n",
    "          FROM\n",
    "            `sfp_data.NumericDataSeries` n\n",
    "          INNER JOIN\n",
    "            `ml.tool_wear_tags` ntag\n",
    "          ON\n",
    "            n.tagName = ntag.tagName\n",
    "          WHERE\n",
    "            TIMESTAMP_TRUNC(n.eventTimestamp, SECOND) > \"%t\"\n",
    "          \n",
    "          UNION ALL\n",
    "          \n",
    "          SELECT\n",
    "            TIMESTAMP_TRUNC(d.eventTimestamp, SECOND) AS eventTimestamp\n",
    "            , d.tagName\n",
    "            , TO_JSON_STRING(d.payload) AS payload\n",
    "          FROM\n",
    "            `sfp_data.DiscreteDataSeries` d\n",
    "          INNER JOIN\n",
    "            `ml.tool_wear_tags` dtag\n",
    "          ON\n",
    "            d.tagName = dtag.tagName\n",
    "          WHERE\n",
    "            TIMESTAMP_TRUNC(d.eventTimestamp, SECOND) > \"%t\"\n",
    "          \n",
    "          UNION ALL\n",
    "          \n",
    "          SELECT\n",
    "            TIMESTAMP_TRUNC(metadata.eventTimestamp, SECOND) AS eventTimestamp\n",
    "            , metadata.tagName\n",
    "            , TO_JSON_STRING(metadata.payload) AS payload\n",
    "          FROM\n",
    "            metadata\n",
    "          INNER JOIN\n",
    "            `ml.tool_wear_tags` mtag\n",
    "          ON\n",
    "            metadata.tagName = mtag.tagName\n",
    "        )\n",
    "        PIVOT\n",
    "        (\n",
    "          ANY_VALUE(payload) as payload\n",
    "          FOR tagName\n",
    "          IN (\n",
    "            %s\n",
    "          )\n",
    "        )\n",
    "    \"\"\",\n",
    "        view_name,\n",
    "        last_prediction_timestamp, \n",
    "        select_expr, \n",
    "        last_prediction_timestamp, \n",
    "        last_prediction_timestamp, \n",
    "        pivot_expr)\n",
    "    );\n",
    "\n",
    "    -- Execute query\n",
    "    EXECUTE IMMEDIATE query;\n",
    "END\n",
    "'''\n",
    "\n",
    "results = bq_client.query(query)\n",
    "\n",
    "results.to_dataframe()"
   ]
  },
  {
   "cell_type": "code",
   "execution_count": null,
   "id": "7c2204e7-1d7a-45d1-b7d4-e6a664521724",
   "metadata": {},
   "outputs": [],
   "source": [
    "current_time_string = datetime.now().strftime(\"%Y%m%d_%H%M%S\")\n",
    "view_name = f\"ml.prediction_features_{current_time_string}\"\n",
    "bq_params = {\"view_name\": view_name}\n",
    "\n",
    "view_name"
   ]
  },
  {
   "cell_type": "code",
   "execution_count": null,
   "id": "fb6f5139-5213-4546-975c-335663512a70",
   "metadata": {},
   "outputs": [],
   "source": [
    "query = f\"\"\"CALL `{PROJECT_ID}.ml.create_prediction_features_view`('{view_name}');\"\"\"\n",
    "\n",
    "results = bq_client.query(query)\n",
    "\n",
    "results.to_dataframe()"
   ]
  },
  {
   "cell_type": "markdown",
   "id": "aca1a938-8abd-4a11-b739-556745470a5f",
   "metadata": {},
   "source": [
    "You can see the view query by querying the `ml.INFORMATION_SCHEMA.VIEWS` table."
   ]
  },
  {
   "cell_type": "code",
   "execution_count": null,
   "id": "499ea363-883e-47c5-8c3d-74bb3a5c9abe",
   "metadata": {},
   "outputs": [],
   "source": [
    "query = f\"\"\"\n",
    "SELECT\n",
    "  * \n",
    "FROM \n",
    "  `{PROJECT_ID}.ml.INFORMATION_SCHEMA.VIEWS`\n",
    "WHERE\n",
    "  table_name = '{view_name.split('.')[1]}';\n",
    "\"\"\"\n",
    "\n",
    "results = bq_client.query(query)\n",
    "df = results.to_dataframe()\n",
    "\n",
    "print(df[\"view_definition\"].values[0])"
   ]
  },
  {
   "cell_type": "code",
   "execution_count": null,
   "id": "2848081d-b872-4d0d-978f-3505b3c61014",
   "metadata": {},
   "outputs": [],
   "source": [
    "query = f\"\"\"\n",
    "SELECT *\n",
    "FROM `{PROJECT_ID}.{view_name}`\n",
    "ORDER BY eventTimestamp DESC\n",
    "LIMIT 5;\n",
    "\"\"\"\n",
    "\n",
    "results = bq_client.query(query)\n",
    "\n",
    "results.to_dataframe()"
   ]
  },
  {
   "cell_type": "markdown",
   "id": "8592bef1-6ae7-43ff-9d6c-f87ef4894b4c",
   "metadata": {},
   "source": [
    "> Note: the prediction features are arranged in the expected format where features are represented as columns and each row contains a collection of features. "
   ]
  },
  {
   "cell_type": "markdown",
   "id": "6e82d1f5-a2f4-47bf-b531-4957d000756c",
   "metadata": {},
   "source": [
    "## Trigger Batch Prediction\n",
    "\n",
    "After the prediction features are curated, you will trigger a [batch prediction](https://cloud.google.com/vertex-ai/docs/tabular-data/classification-regression/get-batch-predictions) using the previously trained tool wear classification AutoML model.\n",
    "\n",
    "In this section, you will create a batch prediction job to predicts from BigQuery view and output prediction results in MDE Cloud Storage bucket for batch ingestion. "
   ]
  },
  {
   "cell_type": "markdown",
   "id": "4e4ddba6-050b-4dcd-aa1e-f88447844dd4",
   "metadata": {},
   "source": [
    "### Initialize variables"
   ]
  },
  {
   "cell_type": "code",
   "execution_count": null,
   "id": "bc1311be-42e2-4545-964b-308f440e4ed9",
   "metadata": {},
   "outputs": [],
   "source": [
    "LOCATION = \"us-central1\"\n",
    "API_ENDPOINT = f\"{LOCATION}-aiplatform.googleapis.com\"\n",
    "CLIENT_OPTIONS = {\"api_endpoint\": API_ENDPOINT}\n",
    "PARENT = f\"projects/{PROJECT_ID}/locations/{LOCATION}\"\n",
    "\n",
    "BQ_ML_DATASET = \"ml\"\n",
    "NAME_PREFIX = \"tool_wear\"\n",
    "TIMESTAMP = datetime.now().strftime(\"%Y%m%d%H%M%S\")"
   ]
  },
  {
   "cell_type": "markdown",
   "id": "80457538-cd62-4f3e-b936-c09ab3d0ad15",
   "metadata": {},
   "source": [
    "### Get last updated Vertex AI model"
   ]
  },
  {
   "cell_type": "code",
   "execution_count": null,
   "id": "edb6cfe5-1962-4d37-96d0-39b024af7de9",
   "metadata": {},
   "outputs": [],
   "source": [
    "MODEL_NAME = \"[your-model-name]\"  # Format: 'projects/{project}/locations/{location}/models/{model_id}'\n",
    "\n",
    "if MODEL_NAME == \"\" or MODEL_NAME is None or MODEL_NAME == \"[your-model-name]\":\n",
    "    # Get latest updated model with prefix\n",
    "    models = Model.list(\n",
    "        order_by=\"updateTime desc\",\n",
    "    )\n",
    "\n",
    "    MODEL_NAME = None\n",
    "    for m in models:\n",
    "        if m.display_name.startswith(NAME_PREFIX):\n",
    "            MODEL_NAME = m.resource_name\n",
    "            print(f\"Vertex AI model found: {m.display_name}\")\n",
    "            break\n",
    "\n",
    "    if MODEL_NAME is None:\n",
    "        print(\n",
    "            f'Vertex AI model with prefix \"{NAME_PREFIX}\" not found.'\n",
    "            f\"Please search using a new prefix or locate the model resource name manually.\"\n",
    "        )"
   ]
  },
  {
   "cell_type": "markdown",
   "id": "427a0344-76dc-4488-b15f-f21c7f53ca32",
   "metadata": {},
   "source": [
    "### Get last updated Vertex AI dataset"
   ]
  },
  {
   "cell_type": "code",
   "execution_count": null,
   "id": "ac680625-ecdd-45b9-b38e-2e7e4d78970c",
   "metadata": {},
   "outputs": [],
   "source": [
    "TRAINING_DATASET_NAME = \"[your-dataset-name]\"  # Format: 'projects/{project}/locations/{location}/datasets/{dataset_id}'\n",
    "\n",
    "if (\n",
    "    TRAINING_DATASET_NAME == \"\"\n",
    "    or TRAINING_DATASET_NAME is None\n",
    "    or TRAINING_DATASET_NAME == \"[your-dataset-name]\"\n",
    "):\n",
    "    # Get latest updated dataset with prefix\n",
    "    client = vertex_ai.gapic.DatasetServiceClient(client_options=CLIENT_OPTIONS)\n",
    "    datasets = client.list_datasets(\n",
    "        request={\n",
    "            \"parent\": PARENT,\n",
    "            \"order_by\": \"update_time desc\",\n",
    "        }\n",
    "    )\n",
    "\n",
    "    TRAINING_DATASET_NAME = None\n",
    "    for d in datasets:\n",
    "        if d.display_name.startswith(NAME_PREFIX):\n",
    "            TRAINING_DATASET_NAME = d.name\n",
    "            print(f\"Vertex AI dataset found: {d.display_name}\")\n",
    "            break\n",
    "\n",
    "    if TRAINING_DATASET_NAME is None:\n",
    "        print(\n",
    "            f'Vertex AI dataset with prefix \"{NAME_PREFIX}\" not found.'\n",
    "            f\"Please search using a new prefix or locate the dataset resource name manually.\"\n",
    "        )"
   ]
  },
  {
   "cell_type": "markdown",
   "id": "522ed1e6-6f15-4c5b-a0c4-f49b4435bfe7",
   "metadata": {},
   "source": [
    "### [Create batch prediction job](https://cloud.google.com/vertex-ai/docs/samples/aiplatform-create-batch-prediction-job-sample)\n",
    "\n",
    "To see all parameters for configuring batch prediction, please see the [Vertex AI Python SDK Reference](https://cloud.google.com/python/docs/reference/aiplatform/latest/google.cloud.aiplatform_v1beta1.types.BatchPredictionJob)."
   ]
  },
  {
   "cell_type": "code",
   "execution_count": null,
   "id": "a142c689-489b-4a2d-b2d2-09554ecc18ec",
   "metadata": {},
   "outputs": [],
   "source": [
    "DISPLAY_NAME = f\"tool_wear_{TIMESTAMP}\"\n",
    "model_parameters_dict = {}\n",
    "MODEL_PARAMETERS = json_format.ParseDict(model_parameters_dict, Value())\n",
    "INSTANCE_FORMAT = \"bigquery\"  # https://cloud.google.com/vertex-ai/docs/reference/rest/v1/projects.locations.models#Model.FIELDS.supported_input_storage_formats\n",
    "BQ_SOURCE_URI = (\n",
    "    f\"bq://{PROJECT_ID}.{view_name}\"  # Format: bq://projectId.bqDatasetId.bqTableId\n",
    ")\n",
    "PREDICTIONS_FORMAT = \"jsonl\"  # https://cloud.google.com/vertex-ai/docs/reference/rest/v1/projects.locations.models#Model.FIELDS.supported_output_storage_formats\n",
    "GCS_OUTPUT_URI_PREFIX = f\"gs://{PROJECT_ID}-batch-ingestion/tool_wear_predictions/\"  # Format: gs://bucket_name/folder_name\n",
    "MACHINE_TYPE = \"n1-standard-2\"\n",
    "MIN_NODES = 1\n",
    "MAX_NODES = 3\n",
    "\n",
    "# Initialize client that will be used to create and send requests.\n",
    "# This client only needs to be created once, and can be reused for multiple requests.\n",
    "client = JobServiceClient(client_options=CLIENT_OPTIONS)\n",
    "\n",
    "batch_prediction_job = {\n",
    "    \"display_name\": DISPLAY_NAME,\n",
    "    \"model\": MODEL_NAME,\n",
    "    \"model_parameters\": MODEL_PARAMETERS,\n",
    "    \"input_config\": {\n",
    "        \"instances_format\": INSTANCE_FORMAT,\n",
    "        \"bigquery_source\": {\"input_uri\": BQ_SOURCE_URI},\n",
    "    },\n",
    "    \"output_config\": {\n",
    "        \"predictions_format\": PREDICTIONS_FORMAT,\n",
    "        \"gcs_destination\": {\"output_uri_prefix\": GCS_OUTPUT_URI_PREFIX},\n",
    "    },\n",
    "    \"dedicated_resources\": {\n",
    "        \"machine_spec\": {\n",
    "            \"machine_type\": MACHINE_TYPE,\n",
    "        },\n",
    "        \"starting_replica_count\": MIN_NODES,\n",
    "        \"max_replica_count\": MAX_NODES,\n",
    "    },\n",
    "    \"generate_explanation\": True,\n",
    "    \"explanation_spec\": {\n",
    "        \"parameters\": {\"sampled_shapley_attribution\": {\"path_count\": 3}}\n",
    "    },\n",
    "}\n",
    "\n",
    "\n",
    "response = client.create_batch_prediction_job(\n",
    "    parent=PARENT, batch_prediction_job=batch_prediction_job\n",
    ")\n",
    "\n",
    "print(\"response:\", response.name)"
   ]
  },
  {
   "cell_type": "markdown",
   "id": "45eb1bca-2708-4979-bbc8-dc8452d3f397",
   "metadata": {},
   "source": [
    "## Explore prediction result\n",
    "\n",
    "You have to wait for the batch prediction job to complete before you can query for the prediction result. "
   ]
  },
  {
   "cell_type": "code",
   "execution_count": null,
   "id": "9a809813-5bec-4964-b729-0a2075bbf625",
   "metadata": {},
   "outputs": [],
   "source": [
    "query = f\"\"\"\n",
    "SELECT\n",
    "  *\n",
    "FROM\n",
    "  `{PROJECT_ID}.sfp_data.DiscreteDataSeries`\n",
    "WHERE\n",
    "  DATE(eventTimestamp) > DATE_SUB(CURRENT_DATE(),INTERVAL 1 DAY)\n",
    "  AND tagName = 'tool_wear_predictions'\n",
    "ORDER BY\n",
    "  eventTimestamp DESC\n",
    "LIMIT 5;\n",
    "\"\"\"\n",
    "\n",
    "results = bq_client.query(query)\n",
    "\n",
    "results.to_dataframe()"
   ]
  }
 ],
 "metadata": {
  "environment": {
   "kernel": "python3",
   "name": "common-cpu.m95",
   "type": "gcloud",
   "uri": "gcr.io/deeplearning-platform-release/base-cpu:m95"
  },
  "kernelspec": {
   "display_name": "Python 3.7.13 64-bit ('3.7.13')",
   "language": "python",
   "name": "python3"
  },
  "language_info": {
   "codemirror_mode": {
    "name": "ipython",
    "version": 3
   },
   "file_extension": ".py",
   "mimetype": "text/x-python",
   "name": "python",
   "nbconvert_exporter": "python",
   "pygments_lexer": "ipython3",
   "version": "3.7.13"
  },
  "vscode": {
   "interpreter": {
    "hash": "01786fb03733d89bd2c78a575886e6b66950215f353ab2d24fad9198de693c3b"
   }
  }
 },
 "nbformat": 4,
 "nbformat_minor": 5
}
