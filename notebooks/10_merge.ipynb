{
 "cells": [
  {
   "cell_type": "raw",
   "id": "46615af6-3190-4921-97e0-b0d59796fdeb",
   "metadata": {},
   "source": [
    "# Copyright 2022 Google LLC\n",
    "#\n",
    "# Licensed under the Apache License, Version 2.0 (the \"License\");\n",
    "# you may not use this file except in compliance with the License.\n",
    "# You may obtain a copy of the License at\n",
    "#\n",
    "#     https://www.apache.org/licenses/LICENSE-2.0\n",
    "#\n",
    "# Unless required by applicable law or agreed to in writing, software\n",
    "# distributed under the License is distributed on an \"AS IS\" BASIS,\n",
    "# WITHOUT WARRANTIES OR CONDITIONS OF ANY KIND, either express or implied.\n",
    "# See the License for the specific language governing permissions and\n",
    "# limitations under the License."
   ]
  },
  {
   "cell_type": "markdown",
   "id": "e2efad02-4a5a-4ada-9497-07c2da9054eb",
   "metadata": {},
   "source": [
    "# Merge Dataset\n",
    "\n",
    "This notebook contains code for merging the [Kaggle CNC Mill Tool Wear dataset](https://www.kaggle.com/datasets/shasun/tool-wear-detection-in-cnc-mill)."
   ]
  },
  {
   "cell_type": "code",
   "execution_count": null,
   "id": "74910bcf-3939-449d-82aa-e8440082966f",
   "metadata": {},
   "outputs": [],
   "source": [
    "import os\n",
    "from zipfile import ZipFile\n",
    "\n",
    "import pandas as pd\n",
    "\n",
    "# Local file path to dataset\n",
    "LOCAL_DATA_PATH = \"./data\""
   ]
  },
  {
   "cell_type": "code",
   "execution_count": null,
   "id": "6b1a73ad",
   "metadata": {},
   "outputs": [],
   "source": [
    "with ZipFile(f\"{LOCAL_DATA_PATH}/archive.zip\", \"r\") as zipObj:\n",
    "    # Extract all the contents of zip file in current directory\n",
    "    zipObj.extractall(LOCAL_DATA_PATH)"
   ]
  },
  {
   "cell_type": "code",
   "execution_count": null,
   "id": "a931d0ff",
   "metadata": {},
   "outputs": [],
   "source": [
    "df_train_csv = pd.read_csv(os.path.join(LOCAL_DATA_PATH, \"train.csv\"))\n",
    "\n",
    "experiment_ids = list(df_train_csv[\"No\"].unique())\n",
    "\n",
    "li_df_experiments = []\n",
    "\n",
    "for id in experiment_ids:\n",
    "    filename = (\n",
    "        f\"experiment_{id:0>2d}.csv\"  # Pad number with zeros (left padding, width 2)\n",
    "    )\n",
    "    df = pd.read_csv(os.path.join(LOCAL_DATA_PATH, filename), index_col=None)\n",
    "    df[\"No\"] = id\n",
    "    df = df.merge(df_train_csv, how=\"left\", on=\"No\")\n",
    "\n",
    "    li_df_experiments.append(df)\n",
    "\n",
    "df_experiments = pd.concat(li_df_experiments, axis=0, ignore_index=True)\n",
    "df_experiments.drop(\n",
    "    columns=[\"No\", \"machining_finalized\", \"passed_visual_inspection\"],\n",
    "    errors=\"ignore\",\n",
    "    inplace=True,\n",
    ")\n",
    "df_experiments.to_csv(os.path.join(LOCAL_DATA_PATH, \"tool_wear.csv\"), index=False)"
   ]
  }
 ],
 "metadata": {
  "kernelspec": {
   "display_name": "Python 3.10.7 ('.venv': poetry)",
   "language": "python",
   "name": "python3"
  },
  "language_info": {
   "codemirror_mode": {
    "name": "ipython",
    "version": 3
   },
   "file_extension": ".py",
   "mimetype": "text/x-python",
   "name": "python",
   "nbconvert_exporter": "python",
   "pygments_lexer": "ipython3",
   "version": "3.10.7"
  },
  "vscode": {
   "interpreter": {
    "hash": "9616302a249a799c3254671cfa5de153c82c940b02c0ba7b9cbcbb9110c4caf4"
   }
  }
 },
 "nbformat": 4,
 "nbformat_minor": 5
}
