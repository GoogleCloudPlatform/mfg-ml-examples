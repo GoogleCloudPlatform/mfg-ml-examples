{
 "cells": [
  {
   "cell_type": "raw",
   "id": "46615af6-3190-4921-97e0-b0d59796fdeb",
   "metadata": {},
   "source": [
    "# Copyright 2022 Google LLC\n",
    "#\n",
    "# Licensed under the Apache License, Version 2.0 (the \"License\");\n",
    "# you may not use this file except in compliance with the License.\n",
    "# You may obtain a copy of the License at\n",
    "#\n",
    "#     https://www.apache.org/licenses/LICENSE-2.0\n",
    "#\n",
    "# Unless required by applicable law or agreed to in writing, software\n",
    "# distributed under the License is distributed on an \"AS IS\" BASIS,\n",
    "# WITHOUT WARRANTIES OR CONDITIONS OF ANY KIND, either express or implied.\n",
    "# See the License for the specific language governing permissions and\n",
    "# limitations under the License."
   ]
  },
  {
   "cell_type": "markdown",
   "id": "e2efad02-4a5a-4ada-9497-07c2da9054eb",
   "metadata": {},
   "source": [
    "# Extra\n",
    "\n",
    "This notebook contains extra contents for managing the MFG ML demo solution."
   ]
  },
  {
   "cell_type": "markdown",
   "id": "0e5e2578-0d6e-4522-b674-8910b88a19ac",
   "metadata": {},
   "source": [
    "## Before you begin"
   ]
  },
  {
   "cell_type": "markdown",
   "id": "a4575f5d-a72c-4ca0-ab56-564778e5424d",
   "metadata": {},
   "source": [
    "### Set your project ID\n",
    "\n",
    "If you don't know your project ID, you may be able to get your project ID using gcloud."
   ]
  },
  {
   "cell_type": "code",
   "execution_count": null,
   "id": "fdaeec1c-750f-4368-8f48-c366df8d9484",
   "metadata": {
    "tags": [
     "parameters"
    ]
   },
   "outputs": [],
   "source": [
    "PROJECT_ID = \"[your-project-id]\"  # @param {type:\"string\"}"
   ]
  },
  {
   "cell_type": "code",
   "execution_count": null,
   "id": "fbaa3ab1-e45a-486d-8ef2-60d4d0b2546c",
   "metadata": {},
   "outputs": [],
   "source": [
    "if PROJECT_ID == \"\" or PROJECT_ID is None or PROJECT_ID == \"[your-project-id]\":\n",
    "    # Get your GCP project id from gcloud\n",
    "    shell_output = ! gcloud config list --format 'value(core.project)' 2>/dev/null\n",
    "    PROJECT_ID = shell_output[0]\n",
    "\n",
    "print(\"Project ID:\", PROJECT_ID)"
   ]
  },
  {
   "cell_type": "markdown",
   "id": "13cb497c-8a13-4967-a243-f0e8e4f95b93",
   "metadata": {},
   "source": [
    "## Create and Configure Service Account for Scheduled Notebook Execution\n",
    "\n",
    "When [scheduling a managed notebook execution](https://cloud.google.com/vertex-ai/docs/workbench/managed/schedule-managed-notebooks-run-quickstart), you can select a service account to execute the managed notebook as. The service account must have the following role assignments:\n",
    "\n",
    "1. `roles/notebooks.runner`\n",
    "1. `roles/storage.objectAdmin`\n",
    "\n",
    "In this case, since our notebook require access to BigQuery and Vertex AI, you will have to grant the service account these roles as well:\n",
    "\n",
    "1. `roles/bigquery.dataEditor`\n",
    "1. `roles/bigquery.jobUser`\n",
    "1. `roles/bigquery.readSessionUser`\n",
    "1. `roles/aiplatform.user`"
   ]
  },
  {
   "cell_type": "markdown",
   "id": "cf0b2b63-ac95-44a1-8959-b3fdfa1c50d4",
   "metadata": {},
   "source": [
    "### Prerequisites\n",
    "\n",
    "In order to run cells in this section, your user account or service account must have the following roles: \n",
    "\n",
    "1. `roles/iam.serviceAccountCreator`"
   ]
  },
  {
   "cell_type": "code",
   "execution_count": null,
   "id": "50e0e99e-d8b5-4785-b468-e4fdeca49a99",
   "metadata": {
    "tags": []
   },
   "outputs": [],
   "source": [
    "shell_output = !gcloud auth list 2>/dev/null\n",
    "SERVICE_ACCOUNT = shell_output[2].replace(\"*\", \"\").strip()\n",
    "\n",
    "print(\"SERVICE_ACCOUNT:\", SERVICE_ACCOUNT)"
   ]
  },
  {
   "cell_type": "code",
   "execution_count": null,
   "id": "02ead94d-e896-49ba-a17e-5e65a0edcef0",
   "metadata": {
    "tags": [
     "parameters"
    ]
   },
   "outputs": [],
   "source": [
    "SA_NOTEBOOK = \"vertex-notebook-runner\""
   ]
  },
  {
   "cell_type": "code",
   "execution_count": null,
   "id": "14e0e1e5-ff03-482a-aa0c-6ac25459833c",
   "metadata": {},
   "outputs": [],
   "source": [
    "! gcloud iam service-accounts create $SA_NOTEBOOK \\\n",
    "--description=\"Vertex AI managed notebook runner service account for scheduled execution\" \\\n",
    "--display-name=\"Vertex AI Notebook Runner Service Account\""
   ]
  },
  {
   "cell_type": "code",
   "execution_count": null,
   "id": "6ee989c4-03bf-4ef1-9218-2a606e06c017",
   "metadata": {},
   "outputs": [],
   "source": [
    "! gcloud projects add-iam-policy-binding {PROJECT_ID} \\\n",
    "--member=\"serviceAccount:{SA_NOTEBOOK}@{PROJECT_ID}.iam.gserviceaccount.com\" \\\n",
    "--role='roles/notebooks.runner' > /dev/null\n",
    "\n",
    "! gcloud projects add-iam-policy-binding {PROJECT_ID} \\\n",
    "--member=\"serviceAccount:{SA_NOTEBOOK}@{PROJECT_ID}.iam.gserviceaccount.com\" \\\n",
    "--role='roles/storage.objectAdmin' > /dev/null\n",
    "\n",
    "! gcloud projects add-iam-policy-binding {PROJECT_ID} \\\n",
    "--member=\"serviceAccount:{SA_NOTEBOOK}@{PROJECT_ID}.iam.gserviceaccount.com\" \\\n",
    "--role='roles/bigquery.dataEditor' > /dev/null\n",
    "\n",
    "! gcloud projects add-iam-policy-binding {PROJECT_ID} \\\n",
    "--member=\"serviceAccount:{SA_NOTEBOOK}@{PROJECT_ID}.iam.gserviceaccount.com\" \\\n",
    "--role='roles/bigquery.jobUser' > /dev/null\n",
    "\n",
    "! gcloud projects add-iam-policy-binding {PROJECT_ID} \\\n",
    "--member=\"serviceAccount:{SA_NOTEBOOK}@{PROJECT_ID}.iam.gserviceaccount.com\" \\\n",
    "--role='roles/bigquery.readSessionUser' > /dev/null\n",
    "\n",
    "! gcloud projects add-iam-policy-binding {PROJECT_ID} \\\n",
    "--member=\"serviceAccount:{SA_NOTEBOOK}@{PROJECT_ID}.iam.gserviceaccount.com\" \\\n",
    "--role='roles/aiplatform.user' > /dev/null"
   ]
  },
  {
   "cell_type": "markdown",
   "id": "19d38177-2ebb-4386-b447-bc04a06766f3",
   "metadata": {},
   "source": [
    "## [Schedule a managed notebook run](https://cloud.google.com/vertex-ai/docs/workbench/managed/schedule-managed-notebooks-run-quickstart#schedule_an_execution)\n",
    "\n",
    "**Limitation**: Currently, you can only schedule a managed notebook run through the JupyterLab or GCP console interface. This may change in the future."
   ]
  },
  {
   "cell_type": "markdown",
   "id": "6d73b7bd-1b08-4a4a-8879-14f50ac535d8",
   "metadata": {},
   "source": [
    "## Clean Up\n",
    "\n",
    "Programmatically delete BigQuery views used for batch predictions."
   ]
  },
  {
   "cell_type": "code",
   "execution_count": null,
   "id": "c63979a2-0437-4449-ba81-f7c3f52fee4c",
   "metadata": {},
   "outputs": [],
   "source": [
    "from google.cloud import bigquery\n",
    "\n",
    "bq_client = bigquery.Client(project=PROJECT_ID)"
   ]
  },
  {
   "cell_type": "code",
   "execution_count": null,
   "id": "a8fda5b2-b8da-4a88-acf5-8e956c7a4df0",
   "metadata": {},
   "outputs": [],
   "source": [
    "query = f\"\"\"\n",
    "SELECT\n",
    "    table_name\n",
    "FROM \n",
    "    `{PROJECT_ID}.ml.INFORMATION_SCHEMA.VIEWS`\n",
    "WHERE STARTS_WITH(table_name, 'prediction_features');\n",
    "\"\"\"\n",
    "\n",
    "results = bq_client.query(query).to_dataframe()\n",
    "\n",
    "results"
   ]
  },
  {
   "cell_type": "code",
   "execution_count": null,
   "id": "74910bcf-3939-449d-82aa-e8440082966f",
   "metadata": {},
   "outputs": [],
   "source": [
    "tables = results.to_dict()[\"table_name\"]\n",
    "\n",
    "for table in tables.values():\n",
    "    query = f\"\"\"DROP VIEW ml.{table};\"\"\"\n",
    "    results = bq_client.query(query)"
   ]
  }
 ],
 "metadata": {
  "kernelspec": {
   "display_name": "Python 3.7.13 64-bit ('3.7.13')",
   "language": "python",
   "name": "python3"
  },
  "language_info": {
   "codemirror_mode": {
    "name": "ipython",
    "version": 3
   },
   "file_extension": ".py",
   "mimetype": "text/x-python",
   "name": "python",
   "nbconvert_exporter": "python",
   "pygments_lexer": "ipython3",
   "version": "3.7.13"
  },
  "vscode": {
   "interpreter": {
    "hash": "01786fb03733d89bd2c78a575886e6b66950215f353ab2d24fad9198de693c3b"
   }
  }
 },
 "nbformat": 4,
 "nbformat_minor": 5
}
